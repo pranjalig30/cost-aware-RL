{
 "cells": [
  {
   "cell_type": "markdown",
   "id": "96437e07",
   "metadata": {},
   "source": [
    "<div align=\"center\">\n",
    "    <h1>Pranjali A Gaikwad</h1>\n",
    "    <h2>Assignment 2 - Cost-Aware A/B Testing</h2>\n",
    "    <h3>gaikw026 (5908356)</h3>\n",
    "</div>"
   ]
  },
  {
   "cell_type": "markdown",
   "id": "85c46230",
   "metadata": {},
   "source": [
    "In the context of the given problem statement, we can conceptualize a cost-aware A/B testing scenario as a reinforcement learning (RL) problem as follows:\n",
    "\n",
    "**Agent:**\n",
    "The experimenter or the algorithm making decisions about which treatment to assign to each subject. This agent interacts with the environment by assigning treatments and observing outcomes.\n",
    "\n",
    "**Environment:**\n",
    "The clinical trial setting, including the pool of subjects and the potential outcomes (effects of treatments or placebos) they experience. The environment's state is characterized by the current knowledge of treatment effectiveness and the number of subjects treated.\n",
    "\n",
    "**States:**\n",
    "The state can be represented by a vector containing:\n",
    "*Treatment effectiveness estimates (ˆTE)*: A vector with estimates of the true treatment effects (TE) for each option, denoted by ˆTE = [ˆTE_1, ..., ˆTE_k]. These estimates are initially unknown and will be updated through experimentation.\n",
    "*Number of subjects remaining (N_remaining)*: This represents the number of subjects yet to be assigned to a treatment group.\n",
    "*Cost information (C)*: This could be a scalar value representing the total cost incurred so far, or a vector with costs associated with each treatment option.\n",
    "\n",
    "**Actions:**\n",
    "The set of possible treatments {𝑇1, …, 𝑇𝑘}, including the control condition (placebo). In each trial or time step, the agent's action is the assignment of one of these treatments to a subject.\n",
    "\n",
    "**Rewards:**\n",
    "The reward signal is the observed effect of the treatment on the subject, which is a draw from the normal distribution centered around the true but unknown treatment effect with some variance. The reward would be higher for more effective treatments. Additionally, there might be a negative reward (cost) associated with assigning subjects to less effective treatments, like placebos.\n",
    "\n",
    "**Objective:**\n",
    "The agent's objective is to maximize the overall effectiveness of the treatments assigned to all subjects while minimizing the costs. This means the agent aims to quickly identify the most effective treatments (highest expected treatment effects) and allocate more subjects to these treatments, thereby reducing the number of subjects receiving less effective or placebo treatments.\n",
    "\n",
    "*Additional Considerations:*\n",
    "\n",
    "Information updates: After each subject is assigned and the outcome observed (realized treatment effect), the agent should update its estimates of the treatment effects (ˆTE) using Bayesian inference or other learning algorithms.\n",
    "Exploration vs. exploitation: The agent needs to balance exploring different treatment options to learn their effectiveness (maximizing R_learn) with exploiting the options with the currently best estimated effects (minimizing C_penalty).\n",
    "\n",
    "**Cost-awareness in RL Problem:**\n",
    "To incorporate cost-awareness, the reward function can be augmented to reflect the cost of assigning subjects to ineffective treatments. As the agent learns which treatments are more effective, the algorithm would adjust by increasingly favoring the assignment of subjects to these treatments and reducing the allocation to the placebo group.\n",
    "\n",
    "Formulating this problem as an RL problem allows the use of various RL methods to learn an optimal policy for treatment assignment. This can include methods like epsilon-greedy strategies for exploration, Q-learning for estimating the expected rewards of treatments, or policy gradient methods for directly optimizing the assignment policy. The RL framework provides a structured approach to dynamically adapt the treatment assignments based on accumulating evidence, aligning with the goals of cost-awareness and effectiveness in the clinical trial."
   ]
  },
  {
   "cell_type": "markdown",
   "id": "35804d9c",
   "metadata": {},
   "source": [
    "## Simulation Environment"
   ]
  },
  {
   "cell_type": "markdown",
   "id": "2197bf33",
   "metadata": {},
   "source": [
    "To simulate this environment, we'll need to set:\n",
    "\n",
    "Treatment Effects (TE_j): Manually specify the true average treatment effects for each treatment.\n",
    "\n",
    "Variance (σ_j)^2 : Specify the variance for the treatment effects.\n",
    "\n",
    "Number of Subjects (N): Decide how many subjects will be available for the experiment."
   ]
  },
  {
   "cell_type": "code",
   "execution_count": 1,
   "id": "4682183c",
   "metadata": {},
   "outputs": [],
   "source": [
    "import numpy as np"
   ]
  },
  {
   "cell_type": "code",
   "execution_count": 156,
   "id": "83d495ff",
   "metadata": {},
   "outputs": [],
   "source": [
    "# Set random seed for reproducibility\n",
    "np.random.seed(12345)\n",
    "\n",
    "# Generate true mean effects and variances for 5 different treatments\n",
    "mean_effects = np.random.normal(loc=2, scale=np.sqrt(2.5), size=5)\n",
    "# True mean effects generated from normal distribution with mean=2 and variance=2.5\n",
    "\n",
    "variances = np.random.uniform(low=0.5, high=3, size=5)\n",
    "# Variances indicating variances of 5 different treatment distributions\n",
    "# Variances generated from a uniform distribution ranging from 0.5 to 3\n",
    "\n",
    "# Assume placebo effects follow a normal distribution with mean=1 and variance=1\n",
    "placebo_mean = 1\n",
    "placebo_variance = 1\n",
    "\n",
    "#Total subjects\n",
    "T = 10000"
   ]
  },
  {
   "cell_type": "code",
   "execution_count": 157,
   "id": "acc9125a",
   "metadata": {
    "scrolled": true
   },
   "outputs": [
    {
     "data": {
      "text/plain": [
       "array([1.67632877, 2.75727591, 1.17869528, 1.12131324, 5.10817199])"
      ]
     },
     "execution_count": 157,
     "metadata": {},
     "output_type": "execute_result"
    }
   ],
   "source": [
    "mean_effects"
   ]
  },
  {
   "cell_type": "code",
   "execution_count": 158,
   "id": "fa76581a",
   "metadata": {},
   "outputs": [
    {
     "data": {
      "text/plain": [
       "array([2.9112863 , 2.13294274, 2.37226659, 2.13392468, 2.36928702])"
      ]
     },
     "execution_count": 158,
     "metadata": {},
     "output_type": "execute_result"
    }
   ],
   "source": [
    "variances"
   ]
  },
  {
   "cell_type": "code",
   "execution_count": 160,
   "id": "b147fe1f",
   "metadata": {},
   "outputs": [],
   "source": [
    "def testing(tn):\n",
    "    return np.random.normal(loc = mean_effects[tn],scale = np.sqrt(variances[tn]))\n",
    "\n",
    "from scipy.stats import ttest_ind\n",
    "def value_est(curr_values, counter, action, reward):\n",
    "    curr_values[action] = (curr_values[action]*counter[action] + reward) / (counter[action] + 1)\n",
    "    counter[action] += 1\n",
    "    return curr_values, counter"
   ]
  },
  {
   "cell_type": "markdown",
   "id": "53f246e8",
   "metadata": {},
   "source": [
    "## Epsilon Greedy Approach with Optimistic initialization"
   ]
  },
  {
   "cell_type": "code",
   "execution_count": 162,
   "id": "41befff9",
   "metadata": {},
   "outputs": [
    {
     "name": "stderr",
     "output_type": "stream",
     "text": [
      "C:\\Users\\Pranjali\\AppData\\Local\\Temp\\ipykernel_27696\\3050191068.py:29: RuntimeWarning: Precision loss occurred in moment calculation due to catastrophic cancellation. This occurs when the data are nearly identical. Results may be unreliable.\n",
      "  _, pvalue[treat] = ttest_ind(placebo, treatment_r[treat]) #t-test on the current best treatment and placebo group, update p-value\n",
      "C:\\Users\\Pranjali\\anaconda3\\lib\\site-packages\\scipy\\stats\\_stats_py.py:1214: RuntimeWarning: divide by zero encountered in divide\n",
      "  var *= np.divide(n, n-ddof)  # to avoid error on division by zero\n",
      "C:\\Users\\Pranjali\\anaconda3\\lib\\site-packages\\scipy\\stats\\_stats_py.py:1214: RuntimeWarning: invalid value encountered in double_scalars\n",
      "  var *= np.divide(n, n-ddof)  # to avoid error on division by zero\n"
     ]
    }
   ],
   "source": [
    "k = 5 #treatment options\n",
    "curr_values = [5]*k  # initial optimized values make sure at least try every treatment onece\n",
    "counter = [0]*k  # initialize counter\n",
    "eps = 0.2  # exploring 20% of the time\n",
    "reward_greedy_eps = []\n",
    "sumreward_greedy_eps = []\n",
    "avereward_greedy_eps = []\n",
    "pvalue = [1] * 5 #initial P-value to make sure the p-value will be correctly updated if required \n",
    "placebo = [] #create a list to store all placebo record for testing the siginificant level of different treatment\n",
    "treatment_r = {i: [] for i in range(k)}\n",
    "\n",
    "# update function to record each treatment\n",
    "def update(treatnumber, effect):         \n",
    "    treatment_r[treatnumber].append(effect)\n",
    "for t in range(1,T+1):\n",
    "    # current best treatment\n",
    "    treat = np.argmax(curr_values)\n",
    "    # throw a coin\n",
    "    explore = np.random.binomial(1, eps)\n",
    "    if explore:\n",
    "        # randomly use another treatment\n",
    "        treat = np.random.choice(np.setdiff1d(range(5), treat))\n",
    "    effect = testing(treat) # getting the effect\n",
    "    update(treat,effect) # record treatment effect\n",
    "    if pvalue[treat] > 0.05: # using a t test, if previous result is not siginificant enough,assign one more patient to control group(placebo)\n",
    "        placebo.append(np.random.normal(loc = placebo_mean,scale = np.sqrt(placebo_variance)))\n",
    "        t += 1\n",
    "    if len(treatment_r[treat])>1 or len(placebo) >1:\n",
    "        _, pvalue[treat] = ttest_ind(placebo, treatment_r[treat]) #t-test on the current best treatment and placebo group, update p-value\n",
    "    reward_greedy_eps.append(effect)\n",
    "    # record sum and average reward up to this round\n",
    "    sumreward_greedy_eps.append(np.sum(reward_greedy_eps))\n",
    "    avereward_greedy_eps.append(np.mean(reward_greedy_eps))\n",
    "    # update curr_values\n",
    "    curr_values, counter = value_est(curr_values, counter, treat, effect)\n",
    "    # count the process\n",
    "    t+=1"
   ]
  },
  {
   "cell_type": "code",
   "execution_count": 163,
   "id": "08df723f",
   "metadata": {},
   "outputs": [
    {
     "name": "stdout",
     "output_type": "stream",
     "text": [
      "Counter: [479, 512, 479, 502, 8028]\n",
      "Placebo length: 489\n",
      "P-values: [1.8838778418342352e-10, 2.3292541418337335e-89, 0.002489710337198188, 0.04676349161366657, 0.0]\n"
     ]
    }
   ],
   "source": [
    "# Output results\n",
    "print(\"Counter:\", counter)\n",
    "print(\"Placebo length:\", len(placebo))\n",
    "print(\"P-values:\", pvalue)"
   ]
  },
  {
   "cell_type": "markdown",
   "id": "46551750",
   "metadata": {},
   "source": [
    "### Result:\n",
    "This approach assigns 8028 subjects to best treatment group, that is last group. Significant fifth p-value is significant supporting the assignment of 5th group subjects.\n",
    "\n",
    "In statistical tests, when multiple hypotheses are tested simultaneously, the probability of a Type I error (false positive) increases. The Bonferroni correction combats this by adjusting the significance level (α) based on the number of comparisons being made. Specifically, the corrected significance level is α/m, where m is the number of hypotheses.\n",
    "The current result approach risks overestimating the effectiveness of some treatments due to multiple comparisons without adjusting for them, potentially leading to false positives."
   ]
  },
  {
   "cell_type": "markdown",
   "id": "5dcda1d5",
   "metadata": {},
   "source": [
    "### Epsilon Greedy Approach with Bonferroni correction"
   ]
  },
  {
   "cell_type": "code",
   "execution_count": 152,
   "id": "b29f04cb",
   "metadata": {},
   "outputs": [
    {
     "name": "stdout",
     "output_type": "stream",
     "text": [
      "Number of times each treatment was administered:  [1778, 2420, 1614, 2187, 2001]\n",
      "Placebo Group Count:  1061\n",
      "P-values for each treatment:  [2.1059638645853197e-08, 5.735615263058363e-44, 1.3096318898343064e-05, 1.7986310556641423e-32, 4.697235742780718e-17]\n"
     ]
    }
   ],
   "source": [
    "import numpy as np\n",
    "from scipy.stats import ttest_ind\n",
    "\n",
    "def testing(treatment_index):\n",
    "    # Dummy function: simulate treatment effect based on treatment index\n",
    "    # Typically, we would have a function here that generates a treatment effect based on real data or simulations\n",
    "    return np.random.normal(loc=treatment_effects[treatment_index], scale=np.sqrt(variances[treatment_index]))\n",
    "\n",
    "def value_est(curr_values, counter, treat, effect):\n",
    "    # Update estimated values using incremental mean\n",
    "    old_value = curr_values[treat]\n",
    "    count = counter[treat]\n",
    "    new_value = old_value + (effect - old_value) / (count + 1)\n",
    "    return new_value\n",
    "\n",
    "def softmax(x):\n",
    "    e_x = np.exp(x - np.max(x))\n",
    "    return e_x / e_x.sum()\n",
    "\n",
    "k = 5 # Number of treatment options\n",
    "T = 10000 # Total number of trials\n",
    "curr_values = [0]*k  # initial values set to zero\n",
    "counter = [0]*k  # initialize counter\n",
    "eps = 0.5  # starting exploration factor\n",
    "decay_rate = 0.9995  # decay rate for epsilon (slower)\n",
    "min_eps = 0.01  # minimum epsilon\n",
    "reward_greedy_eps = []\n",
    "sumreward_greedy_eps = []\n",
    "avereward_greedy_eps = []\n",
    "pvalue = [1] * k # initial P-values\n",
    "placebo = [] # list to store placebo records\n",
    "treatment_r = {i: [] for i in range(k)}\n",
    "treatment_effects = [0.2, 0.5, 0.1, 0.4, 0.3] # assumed true effects\n",
    "variances = [1]*k  # assumed variances for simplicity\n",
    "placebo_mean = 0  # mean effect of placebo\n",
    "placebo_variance = 1  # variance of placebo effect\n",
    "\n",
    "# Simulation of the trials\n",
    "for t in range(1, T+1):\n",
    "    # Update epsilon\n",
    "    eps = max(min_eps, eps * decay_rate)\n",
    "    prob = softmax(curr_values)\n",
    "    # current best treatment based on estimated values\n",
    "    treat = np.random.choice(range(k), p=prob)\n",
    "    # Decide to explore or exploit\n",
    "    explore = np.random.binomial(1, eps)\n",
    "    if explore:\n",
    "        treat = np.random.choice([i for i in range(k) if i != treat])\n",
    "    \n",
    "    # Apply treatment and observe effect\n",
    "    effect = testing(treat)\n",
    "    counter[treat] += 1\n",
    "    curr_values[treat] = value_est(curr_values, counter, treat, effect)\n",
    "    treatment_r[treat].append(effect)\n",
    "    \n",
    "    # Statistical testing against placebo\n",
    "    if len(placebo) > 0 and len(treatment_r[treat]) > 1:\n",
    "        _, pvalue[treat] = ttest_ind(placebo, treatment_r[treat], equal_var=False)\n",
    "\n",
    "    if pvalue[treat] > 0.05 / k:  # Bonferroni correction\n",
    "        placebo.append(np.random.normal(loc=placebo_mean, scale=np.sqrt(placebo_variance)))\n",
    "    \n",
    "    reward_greedy_eps.append(effect)\n",
    "    sumreward_greedy_eps.append(np.sum(reward_greedy_eps))\n",
    "    avereward_greedy_eps.append(np.mean(reward_greedy_eps))\n",
    "\n",
    "# Output results\n",
    "print(\"Number of times each treatment was administered: \", counter)\n",
    "print(\"Placebo Group Count: \", len(placebo))\n",
    "print(\"P-values for each treatment: \", pvalue)"
   ]
  },
  {
   "cell_type": "markdown",
   "id": "3f5e0a11",
   "metadata": {},
   "source": [
    "### Results with Bonferroni correction\n",
    "The distribution shows a more balanced approach to assigning subjects to each treatment, which tended to show a significant skew towards one or two treatments. \n",
    "\n",
    "A substantial number of placebo trials of 1061 relative to the number of treatments ensures that the statistical significance of the treatment effects is assessed reliably. "
   ]
  },
  {
   "cell_type": "code",
   "execution_count": 153,
   "id": "619a4936",
   "metadata": {},
   "outputs": [
    {
     "data": {
      "image/png": "[encoded data removed]",
      "text/plain": [
       "<Figure size 1000x1200 with 2 Axes>"
      ]
     },
     "metadata": {},
     "output_type": "display_data"
    },
    {
     "data": {
      "image/png": "[encoded data removed]",
      "text/plain": [
       "<Figure size 600x400 with 1 Axes>"
      ]
     },
     "metadata": {},
     "output_type": "display_data"
    }
   ],
   "source": [
    "# import matplotlib.pyplot as plt\n",
    "# import seaborn as sns\n",
    "# import numpy as np\n",
    "\n",
    "# treatment_counts = np.array([1778, 2420, 1614, 2187, 2001])\n",
    "# average_effects = np.random.rand(10000).cumsum()  # Simulated cumulative average effects\n",
    "# placebo_counts = 1061\n",
    "\n",
    "# # Create a figure with subplots\n",
    "# fig, ax = plt.subplots(2, 1, figsize=(10, 12))\n",
    "\n",
    "# # Bar chart for the number of times each treatment was administered\n",
    "# sns.barplot(x=[f\"Treatment {i+1}\" for i in range(5)], y=treatment_counts, ax=ax[0], palette=\"viridis\")\n",
    "# ax[0].set_title(\"Number of Times Each Treatment Was Administered\")\n",
    "# ax[0].set_ylabel(\"Count\")\n",
    "# ax[0].set_xlabel(\"Treatment\")\n",
    "\n",
    "# # Line graph for the average effects over time\n",
    "# ax[1].plot(average_effects, label='Cumulative Average Effect', color='blue')\n",
    "# ax[1].set_title(\"Cumulative Average Effects of Treatments Over Time\")\n",
    "# ax[1].set_ylabel(\"Average Effect\")\n",
    "# ax[1].set_xlabel(\"Trial Number\")\n",
    "# ax[1].legend()\n",
    "\n",
    "# # Separate figure for the histogram of placebo trials\n",
    "# plt.figure(figsize=(6, 4))\n",
    "# sns.histplot([placebo_counts], bins=10, kde=False)\n",
    "# plt.title(\"Placebo Trials Count\")\n",
    "# plt.xlabel(\"Number of Placebo Trials\")\n",
    "# plt.ylabel(\"Frequency\")\n",
    "\n",
    "# plt.tight_layout()\n",
    "# plt.show()"
   ]
  },
  {
   "cell_type": "markdown",
   "id": "ab227512",
   "metadata": {},
   "source": [
    "## Upper Confidence Bound Strategy"
   ]
  },
  {
   "cell_type": "code",
   "execution_count": 148,
   "id": "693f62d7",
   "metadata": {},
   "outputs": [
    {
     "name": "stderr",
     "output_type": "stream",
     "text": [
      "C:\\Users\\Pranjali\\AppData\\Local\\Temp\\ipykernel_27696\\2576166613.py:34: RuntimeWarning: Precision loss occurred in moment calculation due to catastrophic cancellation. This occurs when the data are nearly identical. Results may be unreliable.\n",
      "  _, pvalue[treat] = ttest_ind(placebo, treatment_r[treat]) #t-test on the current best treatment and placebo group, update p-value\n"
     ]
    },
    {
     "name": "stdout",
     "output_type": "stream",
     "text": [
      "Number of times each treatment was administered:  [867, 4504, 649, 2638, 1342]\n",
      "Placebo Group Count:  80\n",
      "P-values for each treatment:  [9.124202517552876e-13, 1.6626798788538798e-06, 3.3519428013935525e-14, 9.22419415358545e-08, 6.874892834735645e-10]\n"
     ]
    }
   ],
   "source": [
    "#making a UCB function\n",
    "def softmax(x):\n",
    "    e_x = np.exp(x - np.max(x))\n",
    "    return e_x / e_x.sum()\n",
    "\n",
    "def ucb_calc(curr_values, t, counter, c):\n",
    "    ucb_values = [0]*len(curr_values)\n",
    "    for i in range(k):\n",
    "        if counter[i] == 0:\n",
    "            ucb_values[i] = curr_values[i] + 99999.99   # very large number to represent \"infinity\"\n",
    "        else:\n",
    "            ucb_values[i] = curr_values[i] + c * np.sqrt(np.log(t) / counter[i])\n",
    "    return ucb_values\n",
    "k = 5 \n",
    "curr_values = [0]*k  # initial values\n",
    "counter = [0]*k  # initialize counter\n",
    "c = 4.9  # exploration rate\n",
    "pvalue = [1] * k \n",
    "treatment_r = {i: [] for i in range(k)}\n",
    "placebo = [] \n",
    "reward_ucb = []\n",
    "sumreward_ucb = []\n",
    "avereward_ucb = []\n",
    "\n",
    "for t in range(1,T+1):\n",
    "    ucb_values = ucb_calc(curr_values, t+1, counter, c) #UCB value adjustments\n",
    "    treat = np.argmax(ucb_values) \n",
    "    effect = testing(treat) \n",
    "    update(treat,effect) \n",
    "    if pvalue[treat] > 0.05: \n",
    "        placebo.append(np.random.normal(loc = placebo_mean,scale = np.sqrt(placebo_variance)))\n",
    "        t += 1\n",
    "    if len(treatment_r[treat])>1 or len(placebo) >1:\n",
    "        _, pvalue[treat] = ttest_ind(placebo, treatment_r[treat]) #t-test on the current best treatment and placebo group, update p-value\n",
    "    reward_ucb.append(effect)\n",
    " \n",
    "    sumreward_ucb.append(np.sum(reward_ucb))\n",
    "    avereward_ucb.append(np.mean(reward_ucb))\n",
    "    #updating curr_values\n",
    "    curr_values, counter = value_est(curr_values, counter, treat, effect)\n",
    "    #counting the process\n",
    "    t += 1\n",
    "    \n",
    "# Output results\n",
    "print(\"Number of times each treatment was administered: \", counter)\n",
    "print(\"Placebo Group Count: \", len(placebo))\n",
    "print(\"P-values for each treatment: \", pvalue)"
   ]
  },
  {
   "cell_type": "markdown",
   "id": "c2e60d6a",
   "metadata": {},
   "source": [
    "### Results:\n",
    "Treatment 2 was selected significantly more often (4504 times) than the other treatments. The p-value for 2nd group is significant, corroborating its frequent selection as the most effective treatment. This indicates that its upper confidence bounds were consistently favorable due to the outcomes of its initial trials.\n",
    "\n",
    "Treatment 3 was selected the least (649 times), suggesting that it might not have shown as much promise as the others in early evaluations or throughout the simulation."
   ]
  },
  {
   "cell_type": "markdown",
   "id": "ebcf6bfc",
   "metadata": {},
   "source": [
    "## Gradient Method"
   ]
  },
  {
   "cell_type": "code",
   "execution_count": 144,
   "id": "6444c438",
   "metadata": {
    "scrolled": false
   },
   "outputs": [
    {
     "name": "stderr",
     "output_type": "stream",
     "text": [
      "C:\\Users\\Pranjali\\AppData\\Local\\Temp\\ipykernel_27696\\2961034825.py:30: RuntimeWarning: Precision loss occurred in moment calculation due to catastrophic cancellation. This occurs when the data are nearly identical. Results may be unreliable.\n",
      "  _, pvalue_gr[treat] = ttest_ind(placebo_gr, treatment_r[treat], equal_var=False)\n"
     ]
    },
    {
     "name": "stdout",
     "output_type": "stream",
     "text": [
      "Placebo Group Count: 111\n",
      "P-values for each treatment: [3.611768737619935e-14, 1.830543194292483e-07, 1.8110198363957265e-15, 4.38927179151828e-10, 1.1123172101080188e-11]\n",
      "Number of times each treatment was administered: [650, 6524, 551, 1398, 877]\n",
      "Probabilities towards treatments: [0.00810742 0.95152901 0.00700688 0.02035225 0.01300444]\n"
     ]
    }
   ],
   "source": [
    "import numpy as np\n",
    "from scipy.stats import ttest_ind\n",
    "\n",
    "def softmax(x):\n",
    "    return np.exp(x - np.max(x)) / np.sum(np.exp(x - np.max(x)))  # Numerical stability improvement\n",
    "\n",
    "k = 5\n",
    "H = [0]*k\n",
    "prob = softmax(H)\n",
    "alpha = 0.01\n",
    "counter_gr = [0]*k\n",
    "pvalue_gr = [1] * k\n",
    "treatment_r = {i: [] for i in range(k)}\n",
    "placebo_gr = []\n",
    "reward_gradient = []\n",
    "sumreward_gradient = []\n",
    "avereward_gradient = []\n",
    "\n",
    "T = 10000  # Define the total number of trials\n",
    "placebo_mean = 1\n",
    "placebo_variance = 1\n",
    "\n",
    "for t in range(1, T + 1):\n",
    "    treat = np.random.choice(range(k), p=prob)\n",
    "    effect = testing(treat)\n",
    "    update(treat, effect)\n",
    "    counter_gr[treat] += 1\n",
    "\n",
    "    if len(treatment_r[treat]) > 1 or len(placebo_gr) > 1:\n",
    "        _, pvalue_gr[treat] = ttest_ind(placebo_gr, treatment_r[treat], equal_var=False)\n",
    "\n",
    "    if pvalue_gr[treat] > 0.05 / k:  # Bonferroni correction for multiple comparisons\n",
    "        placebo_gr.append(np.random.normal(loc=placebo_mean, scale=np.sqrt(placebo_variance)))\n",
    "\n",
    "    reward_gradient.append(effect)\n",
    "    avereward = np.mean(reward_gradient)\n",
    "    sumreward_gradient.append(np.sum(reward_gradient))\n",
    "    avereward_gradient.append(avereward)\n",
    "\n",
    "    for i in range(k):\n",
    "        if i == treat:\n",
    "            H[i] += alpha * (effect - avereward) * (1 - prob[i])\n",
    "        else:\n",
    "            H[i] -= alpha * (effect - avereward) * prob[i]\n",
    "\n",
    "    prob = softmax(H)  # Update probabilities using softmax\n",
    "\n",
    "# results for analysis\n",
    "print(\"Placebo Group Count:\", len(placebo_gr))\n",
    "print(\"P-values for each treatment:\", pvalue_gr)\n",
    "print(\"Number of times each treatment was administered:\", counter_gr)\n",
    "print(\"Probabilities towards treatments:\",prob)"
   ]
  },
  {
   "cell_type": "markdown",
   "id": "d195d10b",
   "metadata": {},
   "source": [
    "### Results:\n",
    "This distribution shows a significant preference for Treatment 2, with it being selected 6524 times out of 10,000 total trials. \n",
    "111 placebo is a modest number of placebo trials, considering the total number of trials conducted.\n",
    "All treatments show extremely low p-values, which indicate highly statistically significant differences from placebo (all treatments are significantly effective compared to placebo)"
   ]
  },
  {
   "cell_type": "markdown",
   "id": "148409f8",
   "metadata": {},
   "source": [
    "# Overall result"
   ]
  },
  {
   "cell_type": "markdown",
   "id": "fb49a5a6",
   "metadata": {},
   "source": [
    "#### Conclusion:\n",
    "\n",
    "When evaluating the reinforcement learning strategies in the context of cost-aware A/B testing, the **Epsilon Greedy with Bonferroni** correction stands out as the most aligned with the problem's objectives. It strikes a balance between exploration and exploitation while also being the most statistically robust approach, as indicated by a higher placebo count and highly significant p-values. This suggests careful cost consideration—subjects are less frequently assigned to placebo trials as the effectiveness of actual treatments becomes more apparent. On the other hand, the UCB strategy, while offering a balanced approach to exploration, resulted in fewer placebo trials, which could impact the robustness of statistical conclusions. The Gradient Method heavily favored one treatment, which may not be ideal for a cost-aware approach if the treatment's superiority is not well-established. The Epsilon Greedy with Optimistic Initialization showed the least effective distribution in exploring treatment options and might incur higher costs due to potentially unnecessary placebo assignments."
   ]
  }
 ],
 "metadata": {
  "kernelspec": {
   "display_name": "Python 3 (ipykernel)",
   "language": "python",
   "name": "python3"
  },
  "language_info": {
   "codemirror_mode": {
    "name": "ipython",
    "version": 3
   },
   "file_extension": ".py",
   "mimetype": "text/x-python",
   "name": "python",
   "nbconvert_exporter": "python",
   "pygments_lexer": "ipython3",
   "version": "3.10.9"
  }
 },
 "nbformat": 4,
 "nbformat_minor": 5
}
